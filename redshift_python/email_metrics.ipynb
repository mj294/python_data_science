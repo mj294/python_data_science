{
 "cells": [
  {
   "cell_type": "markdown",
   "metadata": {},
   "source": [
    "# Email Metric Generation"
   ]
  },
  {
   "cell_type": "code",
   "execution_count": 1,
   "metadata": {
    "collapsed": false
   },
   "outputs": [],
   "source": [
    "import pandas as pd\n",
    "import numpy as np\n",
    "\n",
    "from query_gen import query_gen"
   ]
  },
  {
   "cell_type": "markdown",
   "metadata": {},
   "source": [
    "### Part 1: Change retailer_id to the retailer of interest. A lookup table for retailer Id's is below:"
   ]
  },
  {
   "cell_type": "code",
   "execution_count": 2,
   "metadata": {
    "collapsed": true
   },
   "outputs": [],
   "source": [
    "retailer_id = 4\n",
    "qg = query_gen(retailer_id)"
   ]
  },
  {
   "cell_type": "markdown",
   "metadata": {},
   "source": [
    "##### ID Lookup table"
   ]
  },
  {
   "cell_type": "code",
   "execution_count": 3,
   "metadata": {
    "collapsed": false
   },
   "outputs": [],
   "source": [
    "id_lookup = qg.run_retailer_id_query()"
   ]
  },
  {
   "cell_type": "code",
   "execution_count": 55,
   "metadata": {
    "collapsed": false
   },
   "outputs": [
    {
     "data": {
      "text/html": [
       "<div>\n",
       "<table border=\"1\" class=\"dataframe\">\n",
       "  <thead>\n",
       "    <tr style=\"text-align: right;\">\n",
       "      <th></th>\n",
       "      <th>id</th>\n",
       "      <th>name</th>\n",
       "    </tr>\n",
       "  </thead>\n",
       "  <tbody>\n",
       "    <tr>\n",
       "      <th>0</th>\n",
       "      <td>1</td>\n",
       "      <td>King Soopers</td>\n",
       "    </tr>\n",
       "    <tr>\n",
       "      <th>1</th>\n",
       "      <td>2</td>\n",
       "      <td>Safeway</td>\n",
       "    </tr>\n",
       "    <tr>\n",
       "      <th>2</th>\n",
       "      <td>3</td>\n",
       "      <td>Target</td>\n",
       "    </tr>\n",
       "    <tr>\n",
       "      <th>3</th>\n",
       "      <td>4</td>\n",
       "      <td>Walmart</td>\n",
       "    </tr>\n",
       "    <tr>\n",
       "      <th>4</th>\n",
       "      <td>5</td>\n",
       "      <td>Walgreens</td>\n",
       "    </tr>\n",
       "  </tbody>\n",
       "</table>\n",
       "</div>"
      ],
      "text/plain": [
       "   id          name\n",
       "0   1  King Soopers\n",
       "1   2       Safeway\n",
       "2   3        Target\n",
       "3   4       Walmart\n",
       "4   5     Walgreens"
      ]
     },
     "execution_count": 55,
     "metadata": {},
     "output_type": "execute_result"
    }
   ],
   "source": [
    "id_lookup.head()"
   ]
  },
  {
   "cell_type": "code",
   "execution_count": 60,
   "metadata": {
    "collapsed": false
   },
   "outputs": [
    {
     "name": "stdout",
     "output_type": "stream",
     "text": [
      "Retailer: ID \n",
      "\n",
      "King Soopers: 1\n",
      "Safeway: 2\n",
      "Target: 3\n",
      "Walmart: 4\n",
      "Walgreens: 5\n",
      "Duane Reade: 6\n",
      "Kroger: 7\n",
      "Ralphs: 8\n",
      "Publix: 9\n",
      "CVS Pharmacy: 10\n"
     ]
    }
   ],
   "source": [
    "print 'Retailer: ID \\n'\n",
    "for i, row in id_lookup.head(10).iterrows():\n",
    "    print '{0}: {1}'.format(row['name'], row['id'])"
   ]
  },
  {
   "cell_type": "markdown",
   "metadata": {},
   "source": [
    "### Part 2: Run SQL Queries, you must rerun Part 1 to change retailer"
   ]
  },
  {
   "cell_type": "code",
   "execution_count": 21,
   "metadata": {
    "collapsed": false
   },
   "outputs": [],
   "source": [
    "df_cat = qg.run_categories_query()\n",
    "df_comp = qg.run_competitor_query()\n",
    "df_index = qg.run_index_analysis_query()"
   ]
  },
  {
   "cell_type": "markdown",
   "metadata": {},
   "source": [
    "### Part 3: Calculated where retailer over/under indexed "
   ]
  },
  {
   "cell_type": "code",
   "execution_count": 43,
   "metadata": {
    "collapsed": false
   },
   "outputs": [],
   "source": [
    "interest = df_index.query('interest_flag == 0')\n",
    "others = df_index.query('interest_flag == 1')\n",
    "df_ind_mg = interest.merge(others, on='cat_name')\n",
    "\n",
    "interest_total = np.sum(df_ind_mg.n_receipt_items_y)\n",
    "others_total = np.sum(df_ind_mg.n_receipt_items_x)\n",
    "\n",
    "df_ind_mg['pct_interest'] = df_ind_mg.eval('n_receipt_items_y / @interest_total')\n",
    "df_ind_mg['pct_other'] = df_ind_mg.eval('n_receipt_items_x / @others_total')\n",
    "df_ind_mg['interest_indexed'] = df_ind_mg.eval('pct_interest / pct_other')\n",
    "\n",
    "df_ind_mg.sort_values('interest_indexed', inplace=True, ascending=False);"
   ]
  },
  {
   "cell_type": "markdown",
   "metadata": {},
   "source": [
    "### Part 4: Print Results\n",
    "\n",
    "###### Change n_rows to see more or less competitors"
   ]
  },
  {
   "cell_type": "code",
   "execution_count": 48,
   "metadata": {
    "collapsed": false
   },
   "outputs": [
    {
     "name": "stdout",
     "output_type": "stream",
     "text": [
      "Top 3 competitors for Walmart's 187,640 light customers\n",
      "\n",
      "\n",
      "Target has 39,578 light Walmart customers.\n",
      "On average they spend 59.49 on 16 items per trip and take 0.84 trips per month.\n",
      "Customers most often purchased in the categories Snacks, Cookies, & Chips, Household Essentials, and Beverages.\n",
      "\n",
      "\n",
      "Kroger has 23,721 light Walmart customers.\n",
      "On average they spend 74.45 on 52 items per trip and take 0.91 trips per month.\n",
      "Customers most often purchased in the categories Produce, Dairy, and Beverages.\n",
      "\n",
      "\n",
      "Publix has 18,810 light Walmart customers.\n",
      "On average they spend 61.64 on 21 items per trip and take 1.18 trips per month.\n",
      "Customers most often purchased in the categories Produce, Dairy, and Beverages.\n",
      "\n",
      "\n",
      "Walmart over indexed in the categories of Sporting Goods, Craft Supplies, and Automotive \n",
      "and under indexed in the categories of Wine, Cigarettes & Tobacco, and Gift Cards.\n",
      "\n"
     ]
    }
   ],
   "source": [
    "n_rows = 3\n",
    "\n",
    "for index, row in df_comp.head(n_rows+1).iterrows():\n",
    "    if index == 0:\n",
    "        retailer_name = row['name']\n",
    "        print \"Top {0} competitors for {1}'s {2:,} light customers\"\\\n",
    "        .format(n_rows, retailer_name, row['n_customers'])\n",
    "        print '\\n'\n",
    "    else:\n",
    "        cats = list(df_cat[df_cat.retailer_name == row['name']].cat_name[:3].values)\n",
    "        print '{0} has {1:,} light {2} customers.'.format(row['name'], row['n_customers'], retailer_name)\n",
    "        print 'On average they spend {0:.2f} on {1:,} items per trip and take {2:.2f} trips per month.'\\\n",
    "        .format(row['avg_tot_per_trip'], row['avg_items_per_trip'], row['avg_trips_month'])\n",
    "        print 'Customers most often purchased in the categories {0}, {1}, and {2}.'\\\n",
    "        .format(*cats)\n",
    "        print '\\n'\n",
    "\n",
    "top_index = list(df_ind_mg.head(3).cat_name.values)\n",
    "bottom_index = list(df_ind_mg.tail(3).cat_name.values)\n",
    "        \n",
    "tmp = top_index+bottom_index\n",
    "    \n",
    "print '''{0} over indexed in the categories of {1}, {2}, and {3} \n",
    "and under indexed in the categories of {4}, {5}, and {6}.\n",
    "'''.format(retailer_name, *tmp)"
   ]
  },
  {
   "cell_type": "code",
   "execution_count": null,
   "metadata": {
    "collapsed": true
   },
   "outputs": [],
   "source": []
  }
 ],
 "metadata": {
  "kernelspec": {
   "display_name": "Python 2",
   "language": "python",
   "name": "python2"
  },
  "language_info": {
   "codemirror_mode": {
    "name": "ipython",
    "version": 2
   },
   "file_extension": ".py",
   "mimetype": "text/x-python",
   "name": "python",
   "nbconvert_exporter": "python",
   "pygments_lexer": "ipython2",
   "version": "2.7.11"
  }
 },
 "nbformat": 4,
 "nbformat_minor": 0
}
